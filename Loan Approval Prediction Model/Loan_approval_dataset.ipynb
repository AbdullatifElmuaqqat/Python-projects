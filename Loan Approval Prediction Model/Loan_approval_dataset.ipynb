{
 "cells": [
  {
   "cell_type": "code",
   "execution_count": 4,
   "metadata": {},
   "outputs": [
    {
     "name": "stdout",
     "output_type": "stream",
     "text": [
      "\n",
      "\n",
      "\n",
      "\n",
      "Number of approved applications in this database: 233\n"
     ]
    },
    {
     "data": {
      "text/plain": [
       "'C:\\\\Users\\\\Abdullatif Elmuaqqat\\\\Desktop\\\\python workplace\\\\Project1_basic_ML_model\\\\data1.csv'"
      ]
     },
     "execution_count": 4,
     "metadata": {},
     "output_type": "execute_result"
    }
   ],
   "source": [
    "###Import Data\n",
    "import pandas as pd\n",
    "import numpy as np\n",
    "\n",
    "#create radom seed\n",
    "np.random.seed()\n",
    "\n",
    "number_of_reports = int(input(\"How many reports you want to randomly generate?\"))\n",
    "\n",
    "#set sample size\n",
    "sample = number_of_reports\n",
    "\n",
    "zero = 0\n",
    "one = 0\n",
    "\n",
    "#Create random data\n",
    "data = {\n",
    "    \"Customer ID\": np.random.randint(1000,9000,size =sample),\n",
    "    \"Age\": np.random.randint(18,80, size = sample),\n",
    "    \"Gender\": np.random.choice([\"Male\", \"Female\", \"Other\"], size=sample),\n",
    "    \"Marital Status\": np.random.choice([\"Single\", \"Married\", \"Divorced\"], size=sample),\n",
    "    \"Number of Dependents\": np.random.randint(0, 5, size=sample),\n",
    "    \"Education\": np.random.choice([\"High School\", \"Some College\", \"Some College\", \"Bachelor's\", \"Master's\", \"PhD\"], size=sample),\n",
    "    \"Employment Status\": np.random.choice([\"Employed\", \"Self-employed\", \"Unemployed\"], size=sample),\n",
    "    \"Annual Income\": np.random.randint(20000, 250000, size=sample),\n",
    "    \"Credit Score\": np.random.randint(300, 850, size=sample),\n",
    "    \"Loan Amount\": np.random.randint(3000, 50000, size=sample),\n",
    "    \"Loan Term\": np.random.choice([5, 10, 15, 20, 25, 30], size=sample),   \n",
    "}\n",
    "\n",
    "#put it in data frame\n",
    "df = pd.DataFrame(data)\n",
    "\n",
    "\n",
    "#Generate the loan approval by a simple conidtions to avoid complexity\n",
    "df[\"Loan Approval\"] = np.where(\n",
    "    (df[\"Annual Income\"] > 8000) & \n",
    "    (df[\"Credit Score\"] > 700)&\n",
    "    (df[\"Loan Amount\"] < df[\"Annual Income\"] * 0.6), 1,0\n",
    ")\n",
    "\n",
    "#counts how many approval loans for machine performance check\n",
    "for i, rows_itertate in df.iterrows():\n",
    "    if rows_itertate[\"Loan Approval\"] == 1:\n",
    "        one += 1\n",
    "    else:\n",
    "        zero +=1\n",
    "        \n",
    "print(f\"\\n\\n\\n\\nNumber of approved applications in this database: {one}\")\n",
    "\n",
    "\n",
    "#Save the new CSV in your device\n",
    "path_name = input(\"Where do you want to save the generated report?\")\n",
    "file_name = input(\"What do you wnat the file to be named as?\")\n",
    "path = rf\"{path_name}\\{file_name}.csv\"\n",
    "\n",
    "df.to_csv(path)\n",
    "\n",
    "path"
   ]
  }
 ],
 "metadata": {
  "kernelspec": {
   "display_name": "Python 3",
   "language": "python",
   "name": "python3"
  },
  "language_info": {
   "codemirror_mode": {
    "name": "ipython",
    "version": 3
   },
   "file_extension": ".py",
   "mimetype": "text/x-python",
   "name": "python",
   "nbconvert_exporter": "python",
   "pygments_lexer": "ipython3",
   "version": "3.11.4"
  }
 },
 "nbformat": 4,
 "nbformat_minor": 2
}
