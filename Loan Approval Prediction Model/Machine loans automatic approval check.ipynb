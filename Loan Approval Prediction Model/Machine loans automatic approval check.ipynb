{
 "cells": [
  {
   "cell_type": "code",
   "execution_count": 1,
   "metadata": {},
   "outputs": [
    {
     "name": "stdout",
     "output_type": "stream",
     "text": [
      "Accuracy Score: 0.95\n",
      "Recall Score: 0.93\n",
      "Precision Score: 0.88\n"
     ]
    },
    {
     "data": {
      "image/png": "[encoded data removed]",
      "text/plain": [
       "<Figure size 640x480 with 2 Axes>"
      ]
     },
     "metadata": {},
     "output_type": "display_data"
    },
    {
     "name": "stdout",
     "output_type": "stream",
     "text": [
      "\n",
      "\n",
      "\n",
      "              precision    recall  f1-score   support\n",
      "\n",
      "           0       0.98      0.96      0.97       764\n",
      "           1       0.88      0.93      0.90       236\n",
      "\n",
      "    accuracy                           0.95      1000\n",
      "   macro avg       0.93      0.95      0.94      1000\n",
      "weighted avg       0.95      0.95      0.95      1000\n",
      "\n"
     ]
    },
    {
     "data": {
      "text/plain": [
       "['saved model.joblib']"
      ]
     },
     "execution_count": 1,
     "metadata": {},
     "output_type": "execute_result"
    }
   ],
   "source": [
    "#Import data\n",
    "import pandas as pd\n",
    "import numpy as np\n",
    "from sklearn.naive_bayes import GaussianNB \n",
    "from sklearn.model_selection import train_test_split \n",
    "from sklearn.metrics import confusion_matrix, ConfusionMatrixDisplay, classification_report, accuracy_score, precision_score, recall_score\n",
    "import matplotlib.pyplot as plt\n",
    "from joblib import dump\n",
    "\n",
    "database = pd.read_csv(\"data.csv\")\n",
    "\n",
    "#set data frame to display the table\n",
    "pd.DataFrame(database)\n",
    "\n",
    "#declare x,y\n",
    "target = \"Loan Approval\"\n",
    "y = database[target]\n",
    "x = database.drop(columns=[target,\"Gender\",\"Age\"], axis = 1)\n",
    "\n",
    "#since GaussianNB takes only binary, convert the strings inside the database to binary\n",
    "x = pd.get_dummies(x)\n",
    "\n",
    "#split machine\n",
    "x_train, x_test, y_train, y_test = train_test_split(x,y, test_size = .2, train_size=.8, random_state = 100)\n",
    "\n",
    "#train model using naive bayes \n",
    "model = GaussianNB()\n",
    "model.fit(x_train,y_train)\n",
    "\n",
    "#predict if the customer eligble for loans\n",
    "y_predict = model.predict(x_test)\n",
    "\n",
    "#print accuracy and other reports\n",
    "accuracy_score = accuracy_score(y_test,y_predict)\n",
    "recall_score = recall_score(y_test,y_predict, average= \"binary\")\n",
    "precision_score = precision_score(y_test,y_predict,average= \"binary\")\n",
    "print(f\"Accuracy Score: {accuracy_score:.2f}\")\n",
    "print(f\"Recall Score: {recall_score:.2f}\")\n",
    "print(f\"Precision Score: {precision_score:.2f}\")\n",
    "\n",
    "\n",
    "cm = confusion_matrix(y_true=y_test, y_pred = y_predict)\n",
    "disp = ConfusionMatrixDisplay(confusion_matrix=cm, display_labels=model.classes_)\n",
    "disp.plot()\n",
    "plt.show()\n",
    "\n",
    "print(\"\\n\\n\")\n",
    "# Print classification report (Full report)\n",
    "print(classification_report(y_test, y_predict))\n",
    "\n",
    "dump(model,'saved model.joblib') #save the training model and the knoweldge gained for future usage"
   ]
  }
 ],
 "metadata": {
  "kernelspec": {
   "display_name": "Python 3",
   "language": "python",
   "name": "python3"
  },
  "language_info": {
   "codemirror_mode": {
    "name": "ipython",
    "version": 3
   },
   "file_extension": ".py",
   "mimetype": "text/x-python",
   "name": "python",
   "nbconvert_exporter": "python",
   "pygments_lexer": "ipython3",
   "version": "3.11.4"
  }
 },
 "nbformat": 4,
 "nbformat_minor": 2
}
