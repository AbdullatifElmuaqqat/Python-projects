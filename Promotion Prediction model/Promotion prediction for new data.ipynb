{
 "cells": [
  {
   "cell_type": "code",
   "execution_count": 6,
   "metadata": {},
   "outputs": [],
   "source": [
    "#Import supportive libraries \n",
    "import pandas as pd\n",
    "from joblib import load\n",
    "\n",
    "# Load the trained model\n",
    "dt = load('saved model.joblib')  # Ensure the filename is correct\n",
    "\n",
    "new_file = input(\"Hi there! Please provide the name of the data file you want the model to use for predictions:\")\n",
    "#read the new data that needed to be tested\n",
    "new_dt = pd.read_csv(f\"{new_file}.csv\")\n",
    "\n",
    "#read the original dataset to help with the new data prediction\n",
    "original_file = input(\"Now, please provide the name of the original data file the model used for previous predictions:\")\n",
    "df1 = pd.read_csv(f\"{original_file}.csv\")\n",
    "\n",
    "#drop the unnecessary colums from both data sets where it can cuase for biases\n",
    "x1 = df1.drop(columns=[\"Promoted\",\"Department\", \"Gender\",\"Education Level\"],axis = 1)\n",
    "new_dt = new_dt.drop(columns=[\"Department\", \"Gender\",\"Education Level\"],axis = 1)\n",
    "\n",
    "#convert columns into multiple binary columns\n",
    "new_dt = pd.get_dummies(new_dt)\n",
    "\n",
    "#Calculates how many missing colums\n",
    "missing_cols = set(x1.columns) - set(new_dt.columns)\n",
    "\n",
    "#iterate through the colums and empty the missing colums with zeros\n",
    "for col in missing_cols:\n",
    "    new_dt[col] = 0\n",
    "\n",
    "#make sure that the new data features and the original data feautres are in the same order     \n",
    "new_dt = new_dt[x1.columns]\n",
    "\n",
    "#predict if the employee deserve to get a promotion\n",
    "predict_promotion = dt.predict(new_dt)\n",
    "\n",
    "#save the prediction under \"Promoted\" colum\n",
    "new_dt['Promoted'] = predict_promotion\n",
    "\n",
    "#Save the data as a csv file and save it\n",
    "path = input(\"Where would you like to save the file at?\\n\")\n",
    "file_name = input(\"What would you like the file be named as?\\n\")\n",
    "\n",
    "save = rf\"{path}\\{file_name}.csv\"\n",
    "\n",
    "new_dt.to_csv(save, index = False)\n"
   ]
  }
 ],
 "metadata": {
  "kernelspec": {
   "display_name": "Python 3",
   "language": "python",
   "name": "python3"
  },
  "language_info": {
   "codemirror_mode": {
    "name": "ipython",
    "version": 3
   },
   "file_extension": ".py",
   "mimetype": "text/x-python",
   "name": "python",
   "nbconvert_exporter": "python",
   "pygments_lexer": "ipython3",
   "version": "3.11.4"
  }
 },
 "nbformat": 4,
 "nbformat_minor": 2
}
