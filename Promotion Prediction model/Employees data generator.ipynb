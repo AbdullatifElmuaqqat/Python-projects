{
 "cells": [
  {
   "cell_type": "code",
   "execution_count": 1,
   "metadata": {},
   "outputs": [
    {
     "data": {
      "text/plain": [
       "'C:\\\\Users\\\\Abdullatif Elmuaqqat\\\\Desktop\\\\python workplace\\\\Project2\\\\data.csv'"
      ]
     },
     "execution_count": 1,
     "metadata": {},
     "output_type": "execute_result"
    }
   ],
   "source": [
    "import numpy as np\n",
    "import pandas as pd\n",
    "\n",
    "np.random.seed()\n",
    "\n",
    "sample = 1000\n",
    "\n",
    "data = {\n",
    "    \"Age\": np.random.randint(18, 80, size=sample),\n",
    "    \"Years of Experience\": np.random.randint(1, 30, size=sample),\n",
    "    \"Number of Trainings Attended\": np.random.randint(1, 30, size=sample),\n",
    "    \"Department\": np.random.choice([\"IT\", \"HR\", \"Relations\", \"Marketing\", \"Customer Service\"], size=sample),\n",
    "    \"Education Level\": np.random.choice([\"High School\", \"Some College\", \"Bachelor's\", \"Master's\", \"PhD\"], size=sample),\n",
    "    \"Gender\": np.random.choice([\"Male\", \"Female\"], size=sample),\n",
    "    \"Previous Year Rating\": np.random.randint(50, 100, size=sample),\n",
    "    \"Length of Service\": np.random.randint(1, 40, size=sample),\n",
    "    \"Number of Projects Handled\": np.random.randint(1, 100, size=sample),   \n",
    "}\n",
    "\n",
    "df = pd.DataFrame(data)\n",
    "\n",
    "df[\"Promoted\"] = np.where((df[\"Previous Year Rating\"] >= 70) & \n",
    "                          (df[\"Length of Service\"] >= 15) &\n",
    "                          (df[\"Number of Projects Handled\"] >= 40) &\n",
    "                          (df[\"Number of Trainings Attended\"] >= 20), \n",
    "                          1, 0)\n",
    "\n",
    "\n",
    "#Save the data as a csv file and save it\n",
    "path = input(\"Where would you like to save the file at?\")\n",
    "\n",
    "file_name = input(\"What would you like the file be named as?\")\n",
    "\n",
    "save = rf\"{path}\\{file_name}.csv\"\n",
    "\n",
    "df.to_csv(save,index = False)\n",
    "\n",
    "save\n"
   ]
  }
 ],
 "metadata": {
  "kernelspec": {
   "display_name": "Python 3",
   "language": "python",
   "name": "python3"
  },
  "language_info": {
   "codemirror_mode": {
    "name": "ipython",
    "version": 3
   },
   "file_extension": ".py",
   "mimetype": "text/x-python",
   "name": "python",
   "nbconvert_exporter": "python",
   "pygments_lexer": "ipython3",
   "version": "3.11.4"
  }
 },
 "nbformat": 4,
 "nbformat_minor": 2
}
