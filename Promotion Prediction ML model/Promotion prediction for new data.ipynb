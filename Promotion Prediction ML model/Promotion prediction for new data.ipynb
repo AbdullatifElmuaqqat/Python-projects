{
 "cells": [
  {
   "cell_type": "markdown",
   "metadata": {},
   "source": [
    "Import supportive libraries \n"
   ]
  },
  {
   "cell_type": "code",
   "execution_count": 19,
   "metadata": {},
   "outputs": [],
   "source": [
    "import pandas as pd\n",
    "from joblib import load"
   ]
  },
  {
   "cell_type": "markdown",
   "metadata": {},
   "source": [
    "Load the trained model"
   ]
  },
  {
   "cell_type": "code",
   "execution_count": 20,
   "metadata": {},
   "outputs": [],
   "source": [
    "\n",
    "dt = load('saved model.joblib')  # Ensure the filename is correct\n"
   ]
  },
  {
   "cell_type": "markdown",
   "metadata": {},
   "source": [
    "Read the new data from a file that needed to be tested"
   ]
  },
  {
   "cell_type": "code",
   "execution_count": 21,
   "metadata": {},
   "outputs": [],
   "source": [
    "\n",
    "new_file = input(\"Hi there! Please provide the name of the data file you want the model to use for predictions:\")\n",
    "new_dt = pd.read_csv(f\"{new_file}.csv\")\n"
   ]
  },
  {
   "cell_type": "markdown",
   "metadata": {},
   "source": [
    "\n",
    "Read the original dataset to help with the new data prediction\n"
   ]
  },
  {
   "cell_type": "code",
   "execution_count": 22,
   "metadata": {},
   "outputs": [],
   "source": [
    "original_file = input(\"Now, please provide the name of the original data file the model used for previous predictions:\")\n",
    "df1 = pd.read_csv(f\"{original_file}.csv\")"
   ]
  },
  {
   "cell_type": "markdown",
   "metadata": {},
   "source": [
    "\n",
    "Drop the unnecessary colums from both data sets where it can cuase for biases\n"
   ]
  },
  {
   "cell_type": "code",
   "execution_count": 23,
   "metadata": {},
   "outputs": [],
   "source": [
    "x1 = df1.drop(columns=[\"Promoted\",\"Department\", \"Gender\",\"Education Level\"],axis = 1)\n",
    "new_dt = new_dt.drop(columns=[\"Department\", \"Gender\",\"Education Level\"],axis = 1)\n",
    "\n",
    "#convert columns into multiple binary columns\n",
    "new_dt = pd.get_dummies(new_dt)"
   ]
  },
  {
   "cell_type": "markdown",
   "metadata": {},
   "source": [
    "Calculates how many missing colums and iterate through the colums and define the empty ones  with zeros"
   ]
  },
  {
   "cell_type": "code",
   "execution_count": 24,
   "metadata": {},
   "outputs": [],
   "source": [
    "\n",
    "missing_cols = set(x1.columns) - set(new_dt.columns)\n",
    "\n",
    "for col in missing_cols:\n",
    "    new_dt[col] = 0\n",
    "\n",
    "#make sure that the new data features and the original data feautres are in the same order     \n",
    "new_dt = new_dt[x1.columns]\n"
   ]
  },
  {
   "cell_type": "markdown",
   "metadata": {},
   "source": [
    "Predict if the employee deserve to get a promotion"
   ]
  },
  {
   "cell_type": "code",
   "execution_count": 25,
   "metadata": {},
   "outputs": [],
   "source": [
    "predict_promotion = dt.predict(new_dt)\n"
   ]
  },
  {
   "cell_type": "markdown",
   "metadata": {},
   "source": [
    "\n",
    "Save the prediction under \"Promoted\" colum\n"
   ]
  },
  {
   "cell_type": "code",
   "execution_count": 26,
   "metadata": {},
   "outputs": [],
   "source": [
    "new_dt['Promoted'] = predict_promotion\n",
    "\n",
    "#Save the data as a csv file and save it\n",
    "path = input(\"Where would you like to save the file at?\\n\")\n",
    "file_name = input(\"What would you like the file be named as?\\n\")\n",
    "\n",
    "save = rf\"{path}\\{file_name}.csv\"\n",
    "\n",
    "new_dt.to_csv(save, index = False)\n"
   ]
  }
 ],
 "metadata": {
  "kernelspec": {
   "display_name": "Python 3",
   "language": "python",
   "name": "python3"
  },
  "language_info": {
   "codemirror_mode": {
    "name": "ipython",
    "version": 3
   },
   "file_extension": ".py",
   "mimetype": "text/x-python",
   "name": "python",
   "nbconvert_exporter": "python",
   "pygments_lexer": "ipython3",
   "version": "3.11.4"
  }
 },
 "nbformat": 4,
 "nbformat_minor": 2
}
